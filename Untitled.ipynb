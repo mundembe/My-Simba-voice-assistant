{
 "cells": [
  {
   "cell_type": "code",
   "execution_count": 34,
   "id": "a687602c",
   "metadata": {},
   "outputs": [],
   "source": [
    "import speech_recognition as sr"
   ]
  },
  {
   "cell_type": "code",
   "execution_count": 35,
   "id": "9b666fc3",
   "metadata": {},
   "outputs": [],
   "source": [
    "listener = sr.Recognizer()"
   ]
  },
  {
   "cell_type": "code",
   "execution_count": 36,
   "id": "05bfa0c9",
   "metadata": {},
   "outputs": [
    {
     "name": "stdout",
     "output_type": "stream",
     "text": [
      "listening...\n",
      "Alex are you listening\n"
     ]
    }
   ],
   "source": [
    "try:\n",
    "    with sr.Microphone() as source:\n",
    "        print(\"listening...\")\n",
    "        voice = listener.listen(source)\n",
    "        command = listener.recognize_google(voice)\n",
    "        print(command)\n",
    "\n",
    "except:\n",
    "    pass"
   ]
  },
  {
   "cell_type": "code",
   "execution_count": null,
   "id": "0698e554",
   "metadata": {},
   "outputs": [],
   "source": []
  }
 ],
 "metadata": {
  "kernelspec": {
   "display_name": "Python 3 (ipykernel)",
   "language": "python",
   "name": "python3"
  },
  "language_info": {
   "codemirror_mode": {
    "name": "ipython",
    "version": 3
   },
   "file_extension": ".py",
   "mimetype": "text/x-python",
   "name": "python",
   "nbconvert_exporter": "python",
   "pygments_lexer": "ipython3",
   "version": "3.9.7"
  }
 },
 "nbformat": 4,
 "nbformat_minor": 5
}
